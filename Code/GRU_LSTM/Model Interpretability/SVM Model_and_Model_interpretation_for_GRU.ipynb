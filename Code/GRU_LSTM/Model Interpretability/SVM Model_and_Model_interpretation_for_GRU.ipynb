{
 "cells": [
  {
   "cell_type": "code",
   "execution_count": 44,
   "metadata": {
    "colab": {
     "base_uri": "https://localhost:8080/",
     "height": 34
    },
    "colab_type": "code",
    "id": "4qqLMj-uFiM6",
    "outputId": "0a783566-9489-4ede-fd27-24e0c2854238"
   },
   "outputs": [
    {
     "name": "stdout",
     "output_type": "stream",
     "text": [
      "Drive already mounted at /content/drive; to attempt to forcibly remount, call drive.mount(\"/content/drive\", force_remount=True).\n"
     ]
    }
   ],
   "source": [
    "from google.colab import drive\n",
    "drive.mount('/content/drive')"
   ]
  },
  {
   "cell_type": "code",
   "execution_count": 0,
   "metadata": {
    "colab": {},
    "colab_type": "code",
    "id": "zCcDpb3PQOdO"
   },
   "outputs": [],
   "source": [
    "from os.path import join\n",
    "import numpy as np\n",
    "from keras import optimizers, losses, activations, models\n",
    "import keras\n",
    "from sklearn.preprocessing import LabelBinarizer"
   ]
  },
  {
   "cell_type": "code",
   "execution_count": 46,
   "metadata": {
    "colab": {
     "base_uri": "https://localhost:8080/",
     "height": 360
    },
    "colab_type": "code",
    "id": "vLzdfMXQ2Bph",
    "outputId": "85bc622b-e9da-4fb7-b110-57cef09eb38c"
   },
   "outputs": [
    {
     "name": "stdout",
     "output_type": "stream",
     "text": [
      "Requirement already satisfied: lime in /usr/local/lib/python3.6/dist-packages (0.1.1.33)\n",
      "Requirement already satisfied: scikit-learn>=0.18 in /usr/local/lib/python3.6/dist-packages (from lime) (0.20.3)\n",
      "Requirement already satisfied: scikit-image>=0.12 in /usr/local/lib/python3.6/dist-packages (from lime) (0.14.2)\n",
      "Requirement already satisfied: matplotlib==2.1.0 in /usr/local/lib/python3.6/dist-packages (from lime) (2.1.0)\n",
      "Requirement already satisfied: numpy in /usr/local/lib/python3.6/dist-packages (from lime) (1.16.2)\n",
      "Requirement already satisfied: scipy in /usr/local/lib/python3.6/dist-packages (from lime) (1.2.1)\n",
      "Requirement already satisfied: cloudpickle>=0.2.1 in /usr/local/lib/python3.6/dist-packages (from scikit-image>=0.12->lime) (0.6.1)\n",
      "Requirement already satisfied: pillow>=4.3.0 in /usr/local/lib/python3.6/dist-packages (from scikit-image>=0.12->lime) (4.3.0)\n",
      "Requirement already satisfied: PyWavelets>=0.4.0 in /usr/local/lib/python3.6/dist-packages (from scikit-image>=0.12->lime) (1.0.3)\n",
      "Requirement already satisfied: six>=1.10.0 in /usr/local/lib/python3.6/dist-packages (from scikit-image>=0.12->lime) (1.11.0)\n",
      "Requirement already satisfied: networkx>=1.8 in /usr/local/lib/python3.6/dist-packages (from scikit-image>=0.12->lime) (2.2)\n",
      "Requirement already satisfied: dask[array]>=1.0.0 in /usr/local/lib/python3.6/dist-packages (from scikit-image>=0.12->lime) (1.1.5)\n",
      "Requirement already satisfied: pyparsing!=2.0.4,!=2.1.2,!=2.1.6,>=2.0.1 in /usr/local/lib/python3.6/dist-packages (from matplotlib==2.1.0->lime) (2.4.0)\n",
      "Requirement already satisfied: pytz in /usr/local/lib/python3.6/dist-packages (from matplotlib==2.1.0->lime) (2018.9)\n",
      "Requirement already satisfied: cycler>=0.10 in /usr/local/lib/python3.6/dist-packages (from matplotlib==2.1.0->lime) (0.10.0)\n",
      "Requirement already satisfied: python-dateutil>=2.0 in /usr/local/lib/python3.6/dist-packages (from matplotlib==2.1.0->lime) (2.5.3)\n",
      "Requirement already satisfied: olefile in /usr/local/lib/python3.6/dist-packages (from pillow>=4.3.0->scikit-image>=0.12->lime) (0.46)\n",
      "Requirement already satisfied: decorator>=4.3.0 in /usr/local/lib/python3.6/dist-packages (from networkx>=1.8->scikit-image>=0.12->lime) (4.4.0)\n",
      "Requirement already satisfied: toolz>=0.7.3; extra == \"array\" in /usr/local/lib/python3.6/dist-packages (from dask[array]>=1.0.0->scikit-image>=0.12->lime) (0.9.0)\n"
     ]
    }
   ],
   "source": [
    "import matplotlib.pyplot as plt\n",
    "!pip install lime\n",
    "from lime.lime_image import LimeImageExplainer\n",
    "from skimage.segmentation import mark_boundaries\n"
   ]
  },
  {
   "cell_type": "code",
   "execution_count": 0,
   "metadata": {
    "colab": {},
    "colab_type": "code",
    "id": "RuHlEp7HFlEm"
   },
   "outputs": [],
   "source": [
    "\n",
    "\n",
    "#audioPath = r\"drive/My Drive/Project\"\n",
    "\n",
    "#training = np.load(join(audioPath, 'training.npz'))['arr_0']\n",
    "training = np.load('/content/drive/My Drive/training.npz')['arr_0']\n",
    "#validation = np.load(join(audioPath, 'validation.npz'))['arr_0']\n",
    "validation = np.load('/content/drive/My Drive/validation.npz')['arr_0']\n",
    "\n",
    "\n",
    "x_train = []\n",
    "y_train = []\n",
    "x_val = []\n",
    "y_val = []\n",
    "\n",
    "for example in training:\n",
    "  x_train.append(example['data'])\n",
    "  y_train.append(example['label'])\n",
    "\n",
    "for example in validation:\n",
    "  x_val.append(example['data'])\n",
    "  y_val.append(example['label'])\n",
    "\n",
    "x_train = np.array(x_train)\n",
    "y_train = np.array(y_train)\n",
    "x_val = np.array(x_val)\n",
    "y_val = np.array(y_val)\n",
    "\n",
    "\n",
    "lb = LabelBinarizer() #one-hot encoding the label for softmax function\n",
    "lb.fit([i for i in range(30)])\n",
    "y_train = lb.transform(y_train)\n",
    "\n",
    "lb.fit([i for i in range(30)])\n",
    "y_val = lb.transform(y_val)\n",
    "\n",
    "#model archetecture starts\n",
    "\n",
    "model = keras.models.Sequential()\n",
    "model.add(keras.layers.GRU(256, input_shape=(99, 13)))\n",
    "model.add(keras.layers.Dense(30, activation = 'softmax'))\n",
    "model.compile(optimizer = 'nadam',  loss = 'categorical_crossentropy', metrics = ['categorical_accuracy'])\n",
    "model.summary()\n",
    "model.fit(x_train, y_train, batch_size = 60, epochs= 10, verbose = 1, validation_data = (x_val, y_val))\n",
    "train_score = model.evaluate(x_train, y_train, batch_size= 60)\n",
    "validation_score = model.evaluate(x_val, y_val, batch_size=60)\n",
    "\n",
    "print (\"accuracy : train -\", train_score,\" validation -\", validation_score)"
   ]
  },
  {
   "cell_type": "code",
   "execution_count": 0,
   "metadata": {
    "colab": {},
    "colab_type": "code",
    "id": "PrQC6ND12gmE"
   },
   "outputs": [],
   "source": [
    "#training = np.load(join(audioPath, 'training.npz'))['arr_0']\n",
    "training = np.load('/content/drive/My Drive/training.npz')['arr_0']\n",
    "#validation = np.load(join(audioPath, 'validation.npz'))['arr_0']\n",
    "validation = np.load('/content/drive/My Drive/validation.npz')['arr_0']\n",
    "\n",
    "\n",
    "x_train = []\n",
    "y_train = []\n",
    "x_val = []\n",
    "y_val = []\n",
    "\n",
    "for example in training:\n",
    "  x_train.append(example['data'])\n",
    "  y_train.append(example['label'])\n",
    "\n",
    "for example in validation:\n",
    "  x_val.append(example['data'])\n",
    "  y_val.append(example['label'])\n",
    "\n",
    "x_train = np.array(x_train)\n",
    "y_train = np.array(y_train)\n",
    "x_val = np.array(x_val)\n",
    "y_val = np.array(y_val)"
   ]
  },
  {
   "cell_type": "code",
   "execution_count": 0,
   "metadata": {
    "colab": {},
    "colab_type": "code",
    "id": "84mK_S6i2jX4"
   },
   "outputs": [],
   "source": [
    "x_vectors_train=[]\n",
    "for i in x_train:\n",
    "  a=[]\n",
    "  for j in i:\n",
    "    for k in j:\n",
    "      a.append(k)\n",
    "  x_vectors_train.append(a)\n",
    "x_vectors_test=[]\n",
    "for i in x_val:\n",
    "  a=[]\n",
    "  for j in i:\n",
    "    for k in j:\n",
    "      a.append(k)\n",
    "  x_vectors_test.append(a)"
   ]
  },
  {
   "cell_type": "code",
   "execution_count": 0,
   "metadata": {
    "colab": {},
    "colab_type": "code",
    "id": "fL34795U4SLk"
   },
   "outputs": [],
   "source": [
    "x_vectors_train=np.array(x_vectors_train)\n",
    "x_vectors_test=np.array(x_vectors_test)"
   ]
  },
  {
   "cell_type": "code",
   "execution_count": 72,
   "metadata": {
    "colab": {
     "base_uri": "https://localhost:8080/",
     "height": 34
    },
    "colab_type": "code",
    "id": "mw8k2pUZ4enI",
    "outputId": "7b15d225-a933-4327-d3ad-3b11265bec4f"
   },
   "outputs": [
    {
     "name": "stdout",
     "output_type": "stream",
     "text": [
      "0.7653283378056808\n"
     ]
    }
   ],
   "source": [
    "from sklearn import svm\n",
    "clf = svm.SVC(kernel='rbf',gamma='scale')\n",
    "clf.fit(x_vectors_train,y_train)\n",
    "pred_svm = clf.predict(x_vectors_test)\n",
    "print(sum(y_val==pred_svm)/len(y_val))"
   ]
  },
  {
   "cell_type": "code",
   "execution_count": 0,
   "metadata": {
    "colab": {},
    "colab_type": "code",
    "id": "3zcYGA8gu1UI"
   },
   "outputs": [],
   "source": [
    "model.save('/content/drive/My Drive/rnn_model.h5')"
   ]
  },
  {
   "cell_type": "code",
   "execution_count": 0,
   "metadata": {
    "colab": {},
    "colab_type": "code",
    "id": "8NSmA8uonVx_"
   },
   "outputs": [],
   "source": [
    "from lime.lime_image import LimeImageExplainer"
   ]
  },
  {
   "cell_type": "code",
   "execution_count": 0,
   "metadata": {
    "colab": {},
    "colab_type": "code",
    "id": "nok5XWlVyQu-"
   },
   "outputs": [],
   "source": [
    "#\n",
    "explainer = LimeImageExplainer()"
   ]
  },
  {
   "cell_type": "code",
   "execution_count": 0,
   "metadata": {
    "colab": {},
    "colab_type": "code",
    "id": "usR28oZkm906"
   },
   "outputs": [],
   "source": [
    "def user_defined(array):\n",
    "  test=np.zeros((99,13),float)\n",
    "  for i in range(99):\n",
    "    for j in range(13):\n",
    "      test[i][j] = array[0][i][j][0]\n",
    "  te = []\n",
    "  te.append(test)\n",
    "  te = np.array(te)\n",
    "  return model.predict(te)"
   ]
  },
  {
   "cell_type": "code",
   "execution_count": 0,
   "metadata": {
    "colab": {
     "base_uri": "https://localhost:8080/",
     "height": 105
    },
    "colab_type": "code",
    "id": "ge8kvN1xyU4K",
    "outputId": "0fd67703-80ee-49b9-f714-281f4ed3629c"
   },
   "outputs": [
    {
     "name": "stderr",
     "output_type": "stream",
     "text": [
      "/usr/local/lib/python3.6/dist-packages/sklearn/linear_model/ridge.py:167: UserWarning: Singular matrix in solving dual problem. Using least-squares solution instead.\n",
      "  warnings.warn(\"Singular matrix in solving dual problem. Using \"\n",
      "/usr/local/lib/python3.6/dist-packages/sklearn/linear_model/ridge.py:167: UserWarning: Singular matrix in solving dual problem. Using least-squares solution instead.\n",
      "  warnings.warn(\"Singular matrix in solving dual problem. Using \"\n"
     ]
    }
   ],
   "source": [
    "explanation_1 = explainer.explain_instance(x_train[0], user_defined, \n",
    "                                         top_labels=2, num_samples=1,\n",
    "                                         random_seed=42)"
   ]
  },
  {
   "cell_type": "code",
   "execution_count": 0,
   "metadata": {
    "colab": {
     "base_uri": "https://localhost:8080/",
     "height": 286
    },
    "colab_type": "code",
    "id": "JCJLx9M7o6-4",
    "outputId": "20b3c75a-dfb0-49c3-d2a9-4bf91a5c1605"
   },
   "outputs": [
    {
     "data": {
      "text/plain": [
       "<matplotlib.image.AxesImage at 0x7f7e0e782048>"
      ]
     },
     "execution_count": 11,
     "metadata": {
      "tags": []
     },
     "output_type": "execute_result"
    },
    {
     "data": {
      "image/png": "[encoded data removed]",
      "text/plain": [
       "<matplotlib.figure.Figure at 0x7f7e30bc1e48>"
      ]
     },
     "metadata": {
      "tags": []
     },
     "output_type": "display_data"
    }
   ],
   "source": [
    "temp, mask = explanation_1.get_image_and_mask(explanation_1.top_labels[0], positive_only=True, num_features=10, hide_rest=True)\n",
    "# plot image and mask together\n",
    "plt.imshow(mark_boundaries(temp / 2 + 0.5, mask))"
   ]
  },
  {
   "cell_type": "code",
   "execution_count": 0,
   "metadata": {
    "colab": {
     "base_uri": "https://localhost:8080/",
     "height": 286
    },
    "colab_type": "code",
    "id": "3hrCwr3Spr6g",
    "outputId": "fc6630b6-0795-4e01-dbd0-4eb7d22ed71c"
   },
   "outputs": [
    {
     "data": {
      "text/plain": [
       "<matplotlib.image.AxesImage at 0x7f7e0e768550>"
      ]
     },
     "execution_count": 12,
     "metadata": {
      "tags": []
     },
     "output_type": "execute_result"
    },
    {
     "data": {
      "image/png": "[encoded data removed]",
      "text/plain": [
       "<matplotlib.figure.Figure at 0x7f7e30bc1e80>"
      ]
     },
     "metadata": {
      "tags": []
     },
     "output_type": "display_data"
    }
   ],
   "source": [
    "temp, mask = explanation_1.get_image_and_mask(explanation_1.top_labels[0], positive_only=True, num_features=1, hide_rest=True)\n",
    "plt.imshow(mark_boundaries(temp / 2 + 0.5, mask))"
   ]
  },
  {
   "cell_type": "code",
   "execution_count": 0,
   "metadata": {
    "colab": {},
    "colab_type": "code",
    "id": "_NBH6xVNL94W"
   },
   "outputs": [],
   "source": []
  }
 ],
 "metadata": {
  "accelerator": "GPU",
  "colab": {
   "collapsed_sections": [],
   "name": "Model.ipynb",
   "provenance": [],
   "version": "0.3.2"
  },
  "kernelspec": {
   "display_name": "Python 3",
   "language": "python",
   "name": "python3"
  },
  "language_info": {
   "codemirror_mode": {
    "name": "ipython",
    "version": 3
   },
   "file_extension": ".py",
   "mimetype": "text/x-python",
   "name": "python",
   "nbconvert_exporter": "python",
   "pygments_lexer": "ipython3",
   "version": "3.6.5"
  }
 },
 "nbformat": 4,
 "nbformat_minor": 1
}
