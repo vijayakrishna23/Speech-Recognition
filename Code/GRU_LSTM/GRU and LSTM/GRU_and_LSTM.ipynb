{
 "cells": [
  {
   "cell_type": "code",
   "execution_count": 2,
   "metadata": {
    "colab": {
     "base_uri": "https://localhost:8080/",
     "height": 122
    },
    "colab_type": "code",
    "executionInfo": {
     "elapsed": 23128,
     "status": "ok",
     "timestamp": 1555458824474,
     "user": {
      "displayName": "Tenzin Choeden",
      "photoUrl": "https://lh4.googleusercontent.com/-vFJSb1v4qc0/AAAAAAAAAAI/AAAAAAAAAMo/I6QDMXL-icg/s64/photo.jpg",
      "userId": "10107739269952230275"
     },
     "user_tz": 240
    },
    "id": "4qqLMj-uFiM6",
    "outputId": "5ce128ee-9858-4a20-bfca-150c4bc4e7cd"
   },
   "outputs": [
    {
     "name": "stdout",
     "output_type": "stream",
     "text": [
      "Go to this URL in a browser: https://accounts.google.com/o/oauth2/auth?client_id=947318989803-6bn6qk8qdgf4n4g3pfee6491hc0brc4i.apps.googleusercontent.com&redirect_uri=urn%3Aietf%3Awg%3Aoauth%3A2.0%3Aoob&scope=email%20https%3A%2F%2Fwww.googleapis.com%2Fauth%2Fdocs.test%20https%3A%2F%2Fwww.googleapis.com%2Fauth%2Fdrive%20https%3A%2F%2Fwww.googleapis.com%2Fauth%2Fdrive.photos.readonly%20https%3A%2F%2Fwww.googleapis.com%2Fauth%2Fpeopleapi.readonly&response_type=code\n",
      "\n",
      "Enter your authorization code:\n",
      "··········\n",
      "Mounted at /content/drive\n"
     ]
    }
   ],
   "source": [
    "from google.colab import drive\n",
    "drive.mount('/content/drive')"
   ]
  },
  {
   "cell_type": "code",
   "execution_count": 3,
   "metadata": {
    "colab": {
     "base_uri": "https://localhost:8080/",
     "height": 34
    },
    "colab_type": "code",
    "executionInfo": {
     "elapsed": 1927,
     "status": "ok",
     "timestamp": 1555458827675,
     "user": {
      "displayName": "Tenzin Choeden",
      "photoUrl": "https://lh4.googleusercontent.com/-vFJSb1v4qc0/AAAAAAAAAAI/AAAAAAAAAMo/I6QDMXL-icg/s64/photo.jpg",
      "userId": "10107739269952230275"
     },
     "user_tz": 240
    },
    "id": "zCcDpb3PQOdO",
    "outputId": "fab34fd0-98fd-4808-8c01-e386c800511a"
   },
   "outputs": [
    {
     "name": "stderr",
     "output_type": "stream",
     "text": [
      "Using TensorFlow backend.\n"
     ]
    }
   ],
   "source": [
    "from os.path import join\n",
    "import numpy as np\n",
    "from keras import optimizers, losses, activations, models\n",
    "import keras\n",
    "from sklearn.preprocessing import LabelBinarizer"
   ]
  },
  {
   "cell_type": "code",
   "execution_count": 4,
   "metadata": {
    "colab": {
     "base_uri": "https://localhost:8080/",
     "height": 734
    },
    "colab_type": "code",
    "executionInfo": {
     "elapsed": 2242159,
     "status": "ok",
     "timestamp": 1555461072646,
     "user": {
      "displayName": "Tenzin Choeden",
      "photoUrl": "https://lh4.googleusercontent.com/-vFJSb1v4qc0/AAAAAAAAAAI/AAAAAAAAAMo/I6QDMXL-icg/s64/photo.jpg",
      "userId": "10107739269952230275"
     },
     "user_tz": 240
    },
    "id": "RuHlEp7HFlEm",
    "outputId": "0764ed3c-c82c-4872-e070-0aeb0ab44b0f"
   },
   "outputs": [
    {
     "name": "stdout",
     "output_type": "stream",
     "text": [
      "WARNING:tensorflow:From /usr/local/lib/python3.6/dist-packages/tensorflow/python/framework/op_def_library.py:263: colocate_with (from tensorflow.python.framework.ops) is deprecated and will be removed in a future version.\n",
      "Instructions for updating:\n",
      "Colocations handled automatically by placer.\n",
      "_________________________________________________________________\n",
      "Layer (type)                 Output Shape              Param #   \n",
      "=================================================================\n",
      "gru_1 (GRU)                  (None, 200)               128400    \n",
      "_________________________________________________________________\n",
      "dense_1 (Dense)              (None, 30)                6030      \n",
      "=================================================================\n",
      "Total params: 134,430\n",
      "Trainable params: 134,430\n",
      "Non-trainable params: 0\n",
      "_________________________________________________________________\n",
      "WARNING:tensorflow:From /usr/local/lib/python3.6/dist-packages/tensorflow/python/ops/math_ops.py:3066: to_int32 (from tensorflow.python.ops.math_ops) is deprecated and will be removed in a future version.\n",
      "Instructions for updating:\n",
      "Use tf.cast instead.\n",
      "Train on 44970 samples, validate on 19751 samples\n",
      "Epoch 1/10\n",
      "44970/44970 [==============================] - 215s 5ms/step - loss: 1.2316 - categorical_accuracy: 0.6421 - val_loss: 0.6073 - val_categorical_accuracy: 0.8279\n",
      "Epoch 2/10\n",
      "44970/44970 [==============================] - 214s 5ms/step - loss: 0.3840 - categorical_accuracy: 0.8919 - val_loss: 0.4503 - val_categorical_accuracy: 0.8739\n",
      "Epoch 3/10\n",
      "44970/44970 [==============================] - 213s 5ms/step - loss: 0.2846 - categorical_accuracy: 0.9178 - val_loss: 0.4084 - val_categorical_accuracy: 0.8854\n",
      "Epoch 4/10\n",
      "44970/44970 [==============================] - 214s 5ms/step - loss: 0.2299 - categorical_accuracy: 0.9325 - val_loss: 0.3922 - val_categorical_accuracy: 0.8928\n",
      "Epoch 5/10\n",
      "44970/44970 [==============================] - 215s 5ms/step - loss: 0.2023 - categorical_accuracy: 0.9410 - val_loss: 0.3673 - val_categorical_accuracy: 0.9016\n",
      "Epoch 6/10\n",
      "44970/44970 [==============================] - 214s 5ms/step - loss: 0.1755 - categorical_accuracy: 0.9475 - val_loss: 0.3797 - val_categorical_accuracy: 0.8990\n",
      "Epoch 7/10\n",
      "44970/44970 [==============================] - 215s 5ms/step - loss: 0.1601 - categorical_accuracy: 0.9521 - val_loss: 0.3953 - val_categorical_accuracy: 0.8971\n",
      "Epoch 8/10\n",
      "44970/44970 [==============================] - 215s 5ms/step - loss: 0.1496 - categorical_accuracy: 0.9559 - val_loss: 0.3923 - val_categorical_accuracy: 0.9019\n",
      "Epoch 9/10\n",
      "44970/44970 [==============================] - 214s 5ms/step - loss: 0.1314 - categorical_accuracy: 0.9606 - val_loss: 0.3939 - val_categorical_accuracy: 0.9019\n",
      "Epoch 10/10\n",
      "44970/44970 [==============================] - 214s 5ms/step - loss: 0.1241 - categorical_accuracy: 0.9625 - val_loss: 0.3859 - val_categorical_accuracy: 0.9032\n",
      "44970/44970 [==============================] - 54s 1ms/step\n",
      "19751/19751 [==============================] - 24s 1ms/step\n",
      "accuracy : train - [0.08962191814301443, 0.9734489635835893]  validation - [0.3859365035957872, 0.9031947723890061]\n"
     ]
    }
   ],
   "source": [
    "audioPath = r\"drive/My Drive/Project\"\n",
    "\n",
    "training = np.load(join(audioPath, 'training.npz'))['arr_0']\n",
    "validation = np.load(join(audioPath, 'validation.npz'))['arr_0']\n",
    "\n",
    "x_train = []\n",
    "y_train = []\n",
    "x_val = []\n",
    "y_val = []\n",
    "\n",
    "for example in training:\n",
    "  x_train.append(example['data'])\n",
    "  y_train.append(example['label'])\n",
    "\n",
    "for example in validation:\n",
    "  x_val.append(example['data'])\n",
    "  y_val.append(example['label'])\n",
    "\n",
    "x_train = np.array(x_train)\n",
    "y_train = np.array(y_train)\n",
    "x_val = np.array(x_val)\n",
    "y_val = np.array(y_val)\n",
    "\n",
    "lb = LabelBinarizer() #one-hot encoding the label for softmax function\n",
    "lb.fit([i for i in range(30)])\n",
    "y_train = lb.transform(y_train)\n",
    "\n",
    "lb.fit([i for i in range(30)])\n",
    "y_val = lb.transform(y_val)\n",
    "num_units = [50, 100, 150, 200, 250]\n",
    "result = []\n",
    "\n",
    "#model archetecture starts\n",
    "\n",
    "model = keras.models.Sequential()\n",
    "#model.add(keras.layers.LSTM(200, input_shape= (99, 13)))\n",
    "model.add(keras.layers.GRU(200, input_shape = (99, 13)))\n",
    "model.add(keras.layers.Dense(30, activation = 'softmax'))\n",
    "model.compile(optimizer = 'nadam',  loss = 'categorical_crossentropy', metrics = ['categorical_accuracy'])\n",
    "model.summary()\n",
    "model.fit(x_train, y_train, batch_size = 60, epochs= 10, verbose = 1, validation_data = (x_val, y_val))\n",
    "train_score = model.evaluate(x_train, y_train, batch_size= 60)\n",
    "validation_score = model.evaluate(x_val, y_val, batch_size=60)\n",
    "\n",
    "print (\"accuracy : train -\", train_score,\" validation -\", validation_score)\n",
    "\n",
    "result.append({'valscore': validation_score, 'train_score': train_score})\n"
   ]
  },
  {
   "cell_type": "code",
   "execution_count": 5,
   "metadata": {
    "colab": {
     "base_uri": "https://localhost:8080/",
     "height": 632
    },
    "colab_type": "code",
    "executionInfo": {
     "elapsed": 2749253,
     "status": "ok",
     "timestamp": 1555463887236,
     "user": {
      "displayName": "Tenzin Choeden",
      "photoUrl": "https://lh4.googleusercontent.com/-vFJSb1v4qc0/AAAAAAAAAAI/AAAAAAAAAMo/I6QDMXL-icg/s64/photo.jpg",
      "userId": "10107739269952230275"
     },
     "user_tz": 240
    },
    "id": "WnHVrCTJKsxm",
    "outputId": "ea8656a1-4dce-4db6-87fd-de2c5df9dbf9"
   },
   "outputs": [
    {
     "name": "stdout",
     "output_type": "stream",
     "text": [
      "_________________________________________________________________\n",
      "Layer (type)                 Output Shape              Param #   \n",
      "=================================================================\n",
      "lstm_1 (LSTM)                (None, 200)               171200    \n",
      "_________________________________________________________________\n",
      "dense_2 (Dense)              (None, 30)                6030      \n",
      "=================================================================\n",
      "Total params: 177,230\n",
      "Trainable params: 177,230\n",
      "Non-trainable params: 0\n",
      "_________________________________________________________________\n",
      "Train on 44970 samples, validate on 19751 samples\n",
      "Epoch 1/10\n",
      "44970/44970 [==============================] - 264s 6ms/step - loss: 1.5954 - categorical_accuracy: 0.5256 - val_loss: 1.3641 - val_categorical_accuracy: 0.6089\n",
      "Epoch 2/10\n",
      "44970/44970 [==============================] - 263s 6ms/step - loss: 0.7072 - categorical_accuracy: 0.7934 - val_loss: 0.6929 - val_categorical_accuracy: 0.8006\n",
      "Epoch 3/10\n",
      "44970/44970 [==============================] - 262s 6ms/step - loss: 0.4927 - categorical_accuracy: 0.8598 - val_loss: 0.5815 - val_categorical_accuracy: 0.8364\n",
      "Epoch 4/10\n",
      "44970/44970 [==============================] - 263s 6ms/step - loss: 0.3761 - categorical_accuracy: 0.8925 - val_loss: 0.5066 - val_categorical_accuracy: 0.8576\n",
      "Epoch 5/10\n",
      "44970/44970 [==============================] - 275s 6ms/step - loss: 0.3226 - categorical_accuracy: 0.9075 - val_loss: 0.4702 - val_categorical_accuracy: 0.8693\n",
      "Epoch 6/10\n",
      "44970/44970 [==============================] - 264s 6ms/step - loss: 0.2798 - categorical_accuracy: 0.9198 - val_loss: 0.4561 - val_categorical_accuracy: 0.8749\n",
      "Epoch 7/10\n",
      "44970/44970 [==============================] - 263s 6ms/step - loss: 0.2519 - categorical_accuracy: 0.9281 - val_loss: 0.4343 - val_categorical_accuracy: 0.8834\n",
      "Epoch 8/10\n",
      "44970/44970 [==============================] - 264s 6ms/step - loss: 0.2284 - categorical_accuracy: 0.9340 - val_loss: 0.4113 - val_categorical_accuracy: 0.8862\n",
      "Epoch 9/10\n",
      "44970/44970 [==============================] - 264s 6ms/step - loss: 0.2050 - categorical_accuracy: 0.9413 - val_loss: 0.4145 - val_categorical_accuracy: 0.8906\n",
      "Epoch 10/10\n",
      "44970/44970 [==============================] - 265s 6ms/step - loss: 0.1931 - categorical_accuracy: 0.9441 - val_loss: 0.4132 - val_categorical_accuracy: 0.8939\n",
      "44970/44970 [==============================] - 60s 1ms/step\n",
      "19751/19751 [==============================] - 27s 1ms/step\n",
      "accuracy : train - [0.1555608838032111, 0.9546364208632425]  validation - [0.41320208982898776, 0.8939294195055666]\n"
     ]
    }
   ],
   "source": [
    "\n",
    "#model archetecture starts\n",
    "\n",
    "model = keras.models.Sequential()\n",
    "model.add(keras.layers.LSTM(200, input_shape= (99, 13)))\n",
    "#model.add(keras.layers.GRU(200, input_shape = (99, 13)))\n",
    "model.add(keras.layers.Dense(30, activation = 'softmax'))\n",
    "model.compile(optimizer = 'nadam',  loss = 'categorical_crossentropy', metrics = ['categorical_accuracy'])\n",
    "model.summary()\n",
    "model.fit(x_train, y_train, batch_size = 60, epochs= 10, verbose = 1, validation_data = (x_val, y_val))\n",
    "train_score = model.evaluate(x_train, y_train, batch_size= 60)\n",
    "validation_score = model.evaluate(x_val, y_val, batch_size=60)\n",
    "\n",
    "print (\"accuracy : train -\", train_score,\" validation -\", validation_score)\n",
    "\n",
    "result.append({'valscore': validation_score, 'train_score': train_score})"
   ]
  }
 ],
 "metadata": {
  "colab": {
   "collapsed_sections": [],
   "name": "Model.ipynb",
   "provenance": [],
   "version": "0.3.2"
  },
  "kernelspec": {
   "display_name": "Python 3",
   "language": "python",
   "name": "python3"
  },
  "language_info": {
   "codemirror_mode": {
    "name": "ipython",
    "version": 3
   },
   "file_extension": ".py",
   "mimetype": "text/x-python",
   "name": "python",
   "nbconvert_exporter": "python",
   "pygments_lexer": "ipython3",
   "version": "3.6.5"
  }
 },
 "nbformat": 4,
 "nbformat_minor": 1
}
