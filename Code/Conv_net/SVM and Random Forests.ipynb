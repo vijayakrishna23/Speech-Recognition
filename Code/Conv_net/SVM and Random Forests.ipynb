{
 "cells": [
  {
   "cell_type": "markdown",
   "metadata": {},
   "source": [
    "<h1><center> SVM and Random Forest for Speech Recognition </center></h1>"
   ]
  },
  {
   "cell_type": "markdown",
   "metadata": {},
   "source": [
    "## Import required libraries"
   ]
  },
  {
   "cell_type": "code",
   "execution_count": 15,
   "metadata": {},
   "outputs": [],
   "source": [
    "import numpy as np\n",
    "from sklearn.preprocessing import OneHotEncoder\n",
    "from sklearn import svm\n",
    "from sklearn.metrics import accuracy_score\n",
    "from sklearn.ensemble import RandomForestClassifier\n",
    "from sklearn.model_selection import train_test_split\n",
    "from sklearn.model_selection import GridSearchCV\n",
    "from sklearn.utils import shuffle"
   ]
  },
  {
   "cell_type": "markdown",
   "metadata": {},
   "source": [
    "#### Note: Execute CNN.ipynb before executing this notebook"
   ]
  },
  {
   "cell_type": "markdown",
   "metadata": {},
   "source": [
    "## Load arrays saved from CNN.ipynb"
   ]
  },
  {
   "cell_type": "code",
   "execution_count": 16,
   "metadata": {},
   "outputs": [],
   "source": [
    "bed_arr = np.load('bed.npz')['arr_0']\n",
    "bird_arr = np.load('bird.npz')['arr_0']\n",
    "cat_arr = np.load('cat.npz')['arr_0']\n",
    "dog_arr = np.load('dog.npz')['arr_0']\n",
    "down_arr = np.load('down.npz')['arr_0']\n",
    "eight_arr = np.load('eight.npz')['arr_0']\n",
    "five_arr = np.load('five.npz')['arr_0']\n",
    "four_arr = np.load('four.npz')['arr_0']\n",
    "go_arr = np.load('go.npz')['arr_0']\n",
    "happy_arr = np.load('happy.npz')['arr_0']\n",
    "house_arr = np.load('house.npz')['arr_0']\n",
    "left_arr = np.load('left.npz')['arr_0']\n",
    "marvin_arr = np.load('marvin.npz')['arr_0']\n",
    "nine_arr = np.load('nine.npz')['arr_0']\n",
    "no_arr = np.load('no.npz')['arr_0']\n",
    "off_arr = np.load('off.npz')['arr_0']\n",
    "on_arr = np.load('on.npz')['arr_0']\n",
    "one_arr = np.load('one.npz')['arr_0']\n",
    "right_arr = np.load('right.npz')['arr_0']\n",
    "seven_arr = np.load('seven.npz')['arr_0']\n",
    "sheila_arr = np.load('sheila.npz')['arr_0']\n",
    "six_arr = np.load('six.npz')['arr_0']\n",
    "stop_arr = np.load('stop.npz')['arr_0']\n",
    "three_arr = np.load('three.npz')['arr_0']\n",
    "tree_arr = np.load('tree.npz')['arr_0']\n",
    "two_arr = np.load('two.npz')['arr_0']\n",
    "up_arr = np.load('up.npz')['arr_0']\n",
    "wow_arr = np.load('wow.npz')['arr_0']\n",
    "yes_arr = np.load('yes.npz')['arr_0']\n",
    "zero_arr = np.load('zero.npz')['arr_0']"
   ]
  },
  {
   "cell_type": "code",
   "execution_count": 17,
   "metadata": {},
   "outputs": [],
   "source": [
    "train_x = np.array([])\n",
    "train_x = np.concatenate((bed_arr ,bird_arr ,cat_arr ,dog_arr ,down_arr ,eight_arr ,five_arr ,four_arr ,go_arr ,happy_arr ,house_arr ,left_arr ,marvin_arr ,nine_arr ,no_arr ,off_arr ,on_arr ,one_arr ,right_arr ,seven_arr ,sheila_arr ,six_arr ,stop_arr ,three_arr ,tree_arr ,two_arr ,up_arr ,wow_arr ,yes_arr ,zero_arr), axis = 0)"
   ]
  },
  {
   "cell_type": "code",
   "execution_count": 18,
   "metadata": {},
   "outputs": [
    {
     "name": "stdout",
     "output_type": "stream",
     "text": [
      "(45000, 20, 11)\n"
     ]
    }
   ],
   "source": [
    "print(train_x.shape)"
   ]
  },
  {
   "cell_type": "markdown",
   "metadata": {},
   "source": [
    "##### Flatten the matrix to be represented as feature columns"
   ]
  },
  {
   "cell_type": "code",
   "execution_count": 19,
   "metadata": {},
   "outputs": [],
   "source": [
    "train_x = np.reshape((train_x), (45000, 220))"
   ]
  },
  {
   "cell_type": "code",
   "execution_count": 20,
   "metadata": {},
   "outputs": [
    {
     "name": "stdout",
     "output_type": "stream",
     "text": [
      "(45000, 220)\n"
     ]
    }
   ],
   "source": [
    "print(train_x.shape)"
   ]
  },
  {
   "cell_type": "code",
   "execution_count": 21,
   "metadata": {},
   "outputs": [],
   "source": [
    "target = []\n",
    "target_var = [0,1,2,3,4,5,6,7,8,9,10,11,12,13,14,15,16,17,18,19,20,21,22,23,24,25,26,27,28,29]\n",
    "count = 0\n",
    "for i in range(0,30):\n",
    "    target.append([target_var[i]] *1500)\n",
    "    count += 1"
   ]
  },
  {
   "cell_type": "code",
   "execution_count": 22,
   "metadata": {},
   "outputs": [],
   "source": [
    "target = np.array(target)\n",
    "target = np.reshape(target, (45000,1))"
   ]
  },
  {
   "cell_type": "code",
   "execution_count": 23,
   "metadata": {},
   "outputs": [
    {
     "name": "stdout",
     "output_type": "stream",
     "text": [
      "(45000, 1)\n"
     ]
    }
   ],
   "source": [
    "print(target.shape)"
   ]
  },
  {
   "cell_type": "code",
   "execution_count": 24,
   "metadata": {},
   "outputs": [],
   "source": [
    "train_x, target = shuffle(train_x, target)"
   ]
  },
  {
   "cell_type": "code",
   "execution_count": 25,
   "metadata": {},
   "outputs": [],
   "source": [
    "train_x, test_x, train_y, test_y = train_test_split(train_x, target) "
   ]
  },
  {
   "cell_type": "markdown",
   "metadata": {},
   "source": [
    "## Support Vector Machine"
   ]
  },
  {
   "cell_type": "code",
   "execution_count": 26,
   "metadata": {},
   "outputs": [
    {
     "name": "stderr",
     "output_type": "stream",
     "text": [
      "C:\\Users\\vjkri\\Anaconda3\\lib\\site-packages\\sklearn\\utils\\validation.py:761: DataConversionWarning: A column-vector y was passed when a 1d array was expected. Please change the shape of y to (n_samples, ), for example using ravel().\n",
      "  y = column_or_1d(y, warn=True)\n"
     ]
    },
    {
     "data": {
      "text/plain": [
       "SVC(C=1.0, cache_size=200, class_weight=None, coef0=0.0,\n",
       "  decision_function_shape='ovr', degree=3, gamma='scale', kernel='rbf',\n",
       "  max_iter=-1, probability=False, random_state=None, shrinking=True,\n",
       "  tol=0.001, verbose=False)"
      ]
     },
     "execution_count": 26,
     "metadata": {},
     "output_type": "execute_result"
    }
   ],
   "source": [
    "svmc = svm.SVC(kernel = 'rbf', gamma = 'scale')\n",
    "svmc.fit(train_x, train_y)"
   ]
  },
  {
   "cell_type": "code",
   "execution_count": 27,
   "metadata": {},
   "outputs": [],
   "source": [
    "pred_svm = svmc.predict(test_x)"
   ]
  },
  {
   "cell_type": "code",
   "execution_count": 28,
   "metadata": {},
   "outputs": [
    {
     "name": "stdout",
     "output_type": "stream",
     "text": [
      "The accuracy of SVM in recognizing words is : 0.5158222222222222\n"
     ]
    }
   ],
   "source": [
    "print('The accuracy of SVM in recognizing words is :', accuracy_score(pred_svm, test_y))"
   ]
  },
  {
   "cell_type": "markdown",
   "metadata": {},
   "source": [
    "## Random Forest Classifier"
   ]
  },
  {
   "cell_type": "code",
   "execution_count": 12,
   "metadata": {},
   "outputs": [
    {
     "name": "stderr",
     "output_type": "stream",
     "text": [
      "C:\\Users\\vjkri\\Anaconda3\\lib\\site-packages\\ipykernel_launcher.py:2: DataConversionWarning: A column-vector y was passed when a 1d array was expected. Please change the shape of y to (n_samples,), for example using ravel().\n",
      "  \n"
     ]
    },
    {
     "data": {
      "text/plain": [
       "RandomForestClassifier(bootstrap=True, class_weight=None, criterion='gini',\n",
       "            max_depth=None, max_features=120, max_leaf_nodes=None,\n",
       "            min_impurity_decrease=0.0, min_impurity_split=None,\n",
       "            min_samples_leaf=1, min_samples_split=2,\n",
       "            min_weight_fraction_leaf=0.0, n_estimators=150, n_jobs=None,\n",
       "            oob_score=False, random_state=None, verbose=0,\n",
       "            warm_start=False)"
      ]
     },
     "execution_count": 12,
     "metadata": {},
     "output_type": "execute_result"
    }
   ],
   "source": [
    "rf = RandomForestClassifier(max_features = 120, n_estimators = 150)\n",
    "rf.fit(train_x, train_y)"
   ]
  },
  {
   "cell_type": "code",
   "execution_count": 13,
   "metadata": {},
   "outputs": [],
   "source": [
    "pred_rf = rf.predict(test_x)"
   ]
  },
  {
   "cell_type": "code",
   "execution_count": 14,
   "metadata": {},
   "outputs": [
    {
     "name": "stdout",
     "output_type": "stream",
     "text": [
      "The accuracy of Random Forest in recognizing words is : 0.5727111111111111\n"
     ]
    }
   ],
   "source": [
    "print('The accuracy of Random Forest in recognizing words is :', accuracy_score(pred_rf, test_y))"
   ]
  },
  {
   "cell_type": "code",
   "execution_count": null,
   "metadata": {},
   "outputs": [],
   "source": []
  }
 ],
 "metadata": {
  "kernelspec": {
   "display_name": "Python 3",
   "language": "python",
   "name": "python3"
  },
  "language_info": {
   "codemirror_mode": {
    "name": "ipython",
    "version": 3
   },
   "file_extension": ".py",
   "mimetype": "text/x-python",
   "name": "python",
   "nbconvert_exporter": "python",
   "pygments_lexer": "ipython3",
   "version": "3.6.5"
  }
 },
 "nbformat": 4,
 "nbformat_minor": 2
}
